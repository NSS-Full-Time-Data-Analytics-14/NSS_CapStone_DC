{
 "cells": [
  {
   "cell_type": "code",
   "execution_count": null,
   "id": "271077bb-df61-462b-919e-bfc5e193ae92",
   "metadata": {},
   "outputs": [],
   "source": [
    "import pandas as pd\n",
    "import numpy as np\n",
    "import re \n",
    "import matplotlib.pyplot as plt\n",
    "import seaborn as sns"
   ]
  },
  {
   "cell_type": "code",
   "execution_count": null,
   "id": "2473f125-0cf0-418d-a7f6-86d1011fd25d",
   "metadata": {
    "scrolled": true
   },
   "outputs": [],
   "source": [
    "life_exp = pd.read_csv('../data/life-expectancy.csv')\n",
    "life_exp"
   ]
  },
  {
   "cell_type": "code",
   "execution_count": null,
   "id": "10b3f61f-4ef0-4147-adc0-e5b2feb55c43",
   "metadata": {
    "scrolled": true
   },
   "outputs": [],
   "source": [
    "life_exp = life_exp.rename(columns= {\n",
    "    \"Entity\": \"Country Name\", \n",
    "    \"Code\": \"Country Code\", \n",
    "    \"Period life expectancy at birth - Sex: total - Age: 0\": \"Life Expectancy\"})\n",
    "life_exp"
   ]
  },
  {
   "cell_type": "code",
   "execution_count": null,
   "id": "43c2606d-55d4-47b2-afa9-69e8772852af",
   "metadata": {
    "scrolled": true
   },
   "outputs": [],
   "source": [
    "gdp_per_capita = pd.read_csv('../data/gdp_per_cap_Data.csv')\n",
    "gdp_per_capita"
   ]
  },
  {
   "cell_type": "code",
   "execution_count": null,
   "id": "196b3b14-d7e2-4cf5-b7db-0efe893fe983",
   "metadata": {
    "scrolled": true
   },
   "outputs": [],
   "source": [
    "gdp_per_capita = gdp_per_capita.drop(columns = ['Series Name', 'Series Code'])\n",
    "gdp_per_capita"
   ]
  },
  {
   "cell_type": "code",
   "execution_count": null,
   "id": "d0aaf37b-1ae0-46bf-885b-7c3f069d0b1f",
   "metadata": {
    "scrolled": true
   },
   "outputs": [],
   "source": [
    "gdp_per_capita = gdp_per_capita.head(217)\n",
    "gdp_per_capita"
   ]
  },
  {
   "cell_type": "code",
   "execution_count": null,
   "id": "0e9e311a-dfe0-438d-aac1-3db5c9a1dbe8",
   "metadata": {
    "scrolled": true
   },
   "outputs": [],
   "source": [
    "col_list = gdp_per_capita.columns.to_list()[2:]"
   ]
  },
  {
   "cell_type": "code",
   "execution_count": null,
   "id": "bd38b82c-c287-4d67-bed7-5dd64f711b06",
   "metadata": {
    "scrolled": true
   },
   "outputs": [],
   "source": [
    "gdp_per_capita = gdp_per_capita.melt(id_vars= ['Country Name', 'Country Code'], value_vars = col_list)"
   ]
  },
  {
   "cell_type": "code",
   "execution_count": null,
   "id": "0c5d4d6a-ba73-45ed-a5f7-bc613ca4fd2f",
   "metadata": {
    "scrolled": true
   },
   "outputs": [],
   "source": [
    "gdp_per_capita = gdp_per_capita.rename(columns = {'variable': 'Year', 'value': 'GDP Per Capita'})\n",
    "gdp_per_capita"
   ]
  },
  {
   "cell_type": "code",
   "execution_count": null,
   "id": "e60603f5-dc86-42b0-b9fe-65a7b6f78caf",
   "metadata": {
    "scrolled": true
   },
   "outputs": [],
   "source": [
    "gdp_per_capita['Year'] = gdp_per_capita['Year'].str[:4]\n",
    "gdp_per_capita"
   ]
  },
  {
   "cell_type": "code",
   "execution_count": null,
   "id": "7a815f8f-4e40-4c15-ad29-7256f47b055e",
   "metadata": {
    "scrolled": true
   },
   "outputs": [],
   "source": [
    "noc_regions = pd.read_csv('../data/noc_regions.csv')\n",
    "noc_regions\n",
    "# NOC= Nationaal Olympic Committee 3-Letter Code"
   ]
  },
  {
   "cell_type": "code",
   "execution_count": null,
   "id": "f84217c6-5cb1-4bf4-935b-12a287f8ed36",
   "metadata": {
    "scrolled": true
   },
   "outputs": [],
   "source": [
    "noc_regions = noc_regions.rename(columns = {'region': 'Country Name', 'notes': 'Region'})\n",
    "noc_regions"
   ]
  },
  {
   "cell_type": "code",
   "execution_count": null,
   "id": "6891df82-323c-4311-8448-5f9721992501",
   "metadata": {
    "scrolled": true
   },
   "outputs": [],
   "source": [
    "ath_events = pd.read_csv('../data/athlete_events.csv')\n",
    "ath_events"
   ]
  },
  {
   "cell_type": "code",
   "execution_count": null,
   "id": "daf3f6c8-9441-49fb-89f8-8920a9f355e5",
   "metadata": {},
   "outputs": [],
   "source": []
  },
  {
   "cell_type": "code",
   "execution_count": null,
   "id": "c479edce-d936-4761-956b-99b147b51bee",
   "metadata": {
    "scrolled": true
   },
   "outputs": [],
   "source": [
    "ath_events['Birth Year'] = ath_events.Year - ath_events.Age\n",
    "ath_events"
   ]
  },
  {
   "cell_type": "code",
   "execution_count": null,
   "id": "4e8b3203-8897-43e4-b5af-51d9e97ac25f",
   "metadata": {
    "scrolled": true
   },
   "outputs": [],
   "source": [
    "gold_medalists = ath_events.loc[ath_events['Medal'] == 'Gold']\n",
    "\n",
    "gold_medalists = gold_medalists.reset_index(drop=True)\n",
    "\n",
    "gold_medalists"
   ]
  },
  {
   "cell_type": "code",
   "execution_count": null,
   "id": "077a75ba-f1e0-434d-8b9a-b7f2a802ecd6",
   "metadata": {
    "scrolled": true
   },
   "outputs": [],
   "source": [
    "silver_medalists = ath_events.loc[ath_events['Medal'] == 'Silver']\n",
    "\n",
    "silver_medalists = silver_medalists.reset_index(drop=True)\n",
    "\n",
    "silver_medalists"
   ]
  },
  {
   "cell_type": "code",
   "execution_count": null,
   "id": "9f26f92b-6f76-4b9c-bd9c-b9c2a4f92817",
   "metadata": {
    "scrolled": true
   },
   "outputs": [],
   "source": [
    "bronze_medalists = ath_events.loc[ath_events['Medal'] == 'Bronze']\n",
    "\n",
    "bronze_medalists = bronze_medalists.reset_index(drop=True)\n",
    "\n",
    "bronze_medalists"
   ]
  },
  {
   "cell_type": "code",
   "execution_count": null,
   "id": "3616839e-12de-490f-9930-058fd65b2965",
   "metadata": {
    "scrolled": true
   },
   "outputs": [],
   "source": [
    "summer_games = ath_events.loc[ath_events['Season'] == 'Summer']\n",
    "\n",
    "summer_games = summer_games.reset_index(drop=True)\n",
    "\n",
    "summer_games"
   ]
  },
  {
   "cell_type": "code",
   "execution_count": null,
   "id": "7c447023-d533-4fe8-989c-b6cf234258fe",
   "metadata": {},
   "outputs": [],
   "source": [
    "summer_games.Year.min()"
   ]
  },
  {
   "cell_type": "code",
   "execution_count": null,
   "id": "1e9817e1-3049-40e6-8055-593bde9ec6ea",
   "metadata": {},
   "outputs": [],
   "source": [
    "summer_games.Year.max()"
   ]
  },
  {
   "cell_type": "code",
   "execution_count": null,
   "id": "0b327375-a5b1-4f13-a528-964f6c8ac659",
   "metadata": {
    "scrolled": true
   },
   "outputs": [],
   "source": [
    "winter_games = ath_events.loc[ath_events['Season'] == 'Winter']\n",
    "\n",
    "winter_games = winter_games.reset_index(drop=True)\n",
    "\n",
    "winter_games"
   ]
  },
  {
   "cell_type": "code",
   "execution_count": null,
   "id": "c84dab8d-6bab-44e7-a876-9cfbb5d09234",
   "metadata": {},
   "outputs": [],
   "source": [
    "winter_games.Year.min()"
   ]
  },
  {
   "cell_type": "code",
   "execution_count": null,
   "id": "ef1fceb5-fdfc-4395-ba71-51449ac0625b",
   "metadata": {},
   "outputs": [],
   "source": [
    "winter_games.Year.max()"
   ]
  },
  {
   "cell_type": "code",
   "execution_count": null,
   "id": "83e1e65d-55e3-4df1-8211-922e7d7d33c9",
   "metadata": {
    "scrolled": true
   },
   "outputs": [],
   "source": [
    "ath_events['Name'].value_counts()"
   ]
  },
  {
   "cell_type": "code",
   "execution_count": null,
   "id": "b11a2c1f-9b0c-4e8d-a12c-d89d7ab5c097",
   "metadata": {},
   "outputs": [],
   "source": [
    "ath_events['Medal'].value_counts()"
   ]
  },
  {
   "cell_type": "code",
   "execution_count": null,
   "id": "c1683ae1-a3af-4a25-aa3e-1cfe5efd6c74",
   "metadata": {
    "scrolled": true
   },
   "outputs": [],
   "source": [
    "ath_events['Sport'].value_counts()"
   ]
  },
  {
   "cell_type": "code",
   "execution_count": null,
   "id": "a989b7ae-c9a1-41a3-a688-17cf83e81d7a",
   "metadata": {
    "scrolled": true
   },
   "outputs": [],
   "source": [
    "ath_events['Event'].value_counts()"
   ]
  },
  {
   "cell_type": "code",
   "execution_count": null,
   "id": "2a6765fb-7dff-46ab-af0c-eeb660f2fef8",
   "metadata": {
    "scrolled": true
   },
   "outputs": [],
   "source": [
    "frames = [gold_medalists, silver_medalists, bronze_medalists]\n",
    "\n",
    "medalists = pd.concat(frames)\n",
    "\n",
    "medalists.reset_index(drop=True)"
   ]
  },
  {
   "cell_type": "code",
   "execution_count": null,
   "id": "12c5c4d4-879c-4a7e-b9d1-3464a12be242",
   "metadata": {},
   "outputs": [],
   "source": [
    "medalists.Name.value_counts().head(7)"
   ]
  },
  {
   "cell_type": "code",
   "execution_count": null,
   "id": "aa911caf-89ef-4d63-abe6-1efa870f4ec2",
   "metadata": {
    "scrolled": true
   },
   "outputs": [],
   "source": [
    "top5_medalists = medalists.loc[medalists['Name'].isin(['Michael Fred Phelps, II', 'Larysa Semenivna Latynina (Diriy-)',\n",
    "                        'Nikolay Yefimovich Andrianov', 'Edoardo Mangiarotti',\n",
    "                        'Takashi Ono'])]\n",
    "\n",
    "top5_medalists = top5_medalists.reset_index(drop=True)\n",
    "\n",
    "top5_medalists"
   ]
  },
  {
   "cell_type": "code",
   "execution_count": null,
   "id": "f8114a9c-308a-47cd-80a0-5c5eea7f8018",
   "metadata": {
    "scrolled": true
   },
   "outputs": [],
   "source": [
    "top5_medalists[['Name', 'Medal']].value_counts()"
   ]
  },
  {
   "cell_type": "code",
   "execution_count": null,
   "id": "4eec0b15-1436-4d30-83ef-d597ac4d85ee",
   "metadata": {},
   "outputs": [],
   "source": [
    "top5_medalists['Age'].describe()"
   ]
  },
  {
   "cell_type": "code",
   "execution_count": null,
   "id": "5688ff27-95cf-4bab-8f66-1901bd1515c8",
   "metadata": {},
   "outputs": [],
   "source": [
    "data = {'Name': ['Michael Fred Phelps, II', 'Larysa Semenivna Latynina (Diriy-)', 'Nikolay Yefimovich Andrianov', 'Edoardo Mangiarotti', 'Takashi Ono'],\n",
    "        'Gold': [23, 9, 7, 6, 5],\n",
    "        'Silver': [3, 5, 5, 5, 4],\n",
    "        'Bronze': [2, 4, 3, 2, 4]}\n",
    "\n",
    "top5_medals_count = pd.DataFrame(data)\n",
    "\n",
    "top5_medals_count"
   ]
  },
  {
   "cell_type": "code",
   "execution_count": null,
   "id": "141ea3ed-fc78-4add-8e1a-29ac7630759f",
   "metadata": {},
   "outputs": [],
   "source": [
    "top5_medals_count.plot(kind='bar', stacked=True, x='Name', color=['yellow', 'silver', 'brown'])\n",
    "\n",
    "plt.xlabel('Athlete')\n",
    "plt.ylabel('Medal Tally')\n",
    "plt.title('Top 5 Athletes w/ Most Medals')\n",
    "plt.legend(bbox_to_anchor = (1, 0.8), loc = 'upper left')\n",
    "plt.show()"
   ]
  },
  {
   "cell_type": "code",
   "execution_count": null,
   "id": "6febeca4-9936-4c2e-b515-d2f135f2258d",
   "metadata": {},
   "outputs": [],
   "source": []
  },
  {
   "cell_type": "code",
   "execution_count": null,
   "id": "f8f9c85f-ce8c-45ed-bad9-24b50e6ab4ed",
   "metadata": {},
   "outputs": [],
   "source": []
  },
  {
   "cell_type": "code",
   "execution_count": null,
   "id": "90b31671-d1cd-4af0-9cfe-47d344b0117c",
   "metadata": {},
   "outputs": [],
   "source": []
  },
  {
   "cell_type": "code",
   "execution_count": null,
   "id": "c31b32b1-9e4b-43ff-abbe-d17858817525",
   "metadata": {},
   "outputs": [],
   "source": []
  },
  {
   "cell_type": "code",
   "execution_count": null,
   "id": "375bf27e-8e91-425d-a286-78fcb5d4406e",
   "metadata": {},
   "outputs": [],
   "source": []
  },
  {
   "cell_type": "code",
   "execution_count": null,
   "id": "7b03ad3b-dd8e-457b-9be8-65d193a98738",
   "metadata": {},
   "outputs": [],
   "source": [
    "# ipl_tot.sort_values(by=(['Matches Won', 'Win Percent']), ascending=False, inplace=True)"
   ]
  },
  {
   "cell_type": "code",
   "execution_count": null,
   "id": "5b3c4ce3-205f-4888-95c1-7e84da817ae9",
   "metadata": {},
   "outputs": [],
   "source": [
    "#pandas melt"
   ]
  },
  {
   "cell_type": "code",
   "execution_count": null,
   "id": "ea3a91cb-5950-4331-a1b6-39c2f88f79cb",
   "metadata": {},
   "outputs": [],
   "source": [
    "#https://pandas.pydata.org/docs/reference/api/pandas.melt.html"
   ]
  },
  {
   "cell_type": "code",
   "execution_count": null,
   "id": "611b465b-df32-467f-ba1f-2746fe041a77",
   "metadata": {},
   "outputs": [],
   "source": [
    "#https://www.geeksforgeeks.org/python-pandas-melt/"
   ]
  }
 ],
 "metadata": {
  "kernelspec": {
   "display_name": "Python 3 (ipykernel)",
   "language": "python",
   "name": "python3"
  },
  "language_info": {
   "codemirror_mode": {
    "name": "ipython",
    "version": 3
   },
   "file_extension": ".py",
   "mimetype": "text/x-python",
   "name": "python",
   "nbconvert_exporter": "python",
   "pygments_lexer": "ipython3",
   "version": "3.12.4"
  }
 },
 "nbformat": 4,
 "nbformat_minor": 5
}

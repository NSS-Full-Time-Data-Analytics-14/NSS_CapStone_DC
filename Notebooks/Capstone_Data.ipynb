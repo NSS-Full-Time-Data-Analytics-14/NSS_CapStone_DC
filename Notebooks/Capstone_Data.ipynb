{
 "cells": [
  {
   "cell_type": "code",
   "execution_count": null,
   "id": "271077bb-df61-462b-919e-bfc5e193ae92",
   "metadata": {},
   "outputs": [],
   "source": [
    "import pandas as pd\n",
    "import numpy as np\n",
    "import re \n",
    "import matplotlib.pyplot as plt\n",
    "import seaborn as sns"
   ]
  },
  {
   "cell_type": "code",
   "execution_count": null,
   "id": "2473f125-0cf0-418d-a7f6-86d1011fd25d",
   "metadata": {
    "scrolled": true
   },
   "outputs": [],
   "source": [
    "life_exp = pd.read_csv('../data/life-expectancy.csv')\n",
    "life_exp"
   ]
  },
  {
   "cell_type": "code",
   "execution_count": null,
   "id": "10b3f61f-4ef0-4147-adc0-e5b2feb55c43",
   "metadata": {
    "scrolled": true
   },
   "outputs": [],
   "source": [
    "life_exp = life_exp.rename(columns= {\n",
    "    \"Entity\": \"Country Name\", \n",
    "    \"Code\": \"Country Code\", \n",
    "    \"Period life expectancy at birth - Sex: total - Age: 0\": \"Life Expectancy\"})\n",
    "life_exp"
   ]
  },
  {
   "cell_type": "code",
   "execution_count": null,
   "id": "43c2606d-55d4-47b2-afa9-69e8772852af",
   "metadata": {
    "scrolled": true
   },
   "outputs": [],
   "source": [
    "gdp_per_capita = pd.read_csv('../data/gdp_per_cap_Data.csv')\n",
    "gdp_per_capita"
   ]
  },
  {
   "cell_type": "code",
   "execution_count": null,
   "id": "196b3b14-d7e2-4cf5-b7db-0efe893fe983",
   "metadata": {
    "scrolled": true
   },
   "outputs": [],
   "source": [
    "gdp_per_capita = gdp_per_capita.drop(columns = ['Series Name', 'Series Code'])\n",
    "gdp_per_capita"
   ]
  },
  {
   "cell_type": "code",
   "execution_count": null,
   "id": "d0aaf37b-1ae0-46bf-885b-7c3f069d0b1f",
   "metadata": {
    "scrolled": true
   },
   "outputs": [],
   "source": [
    "gdp_per_capita = gdp_per_capita.head(217)\n",
    "gdp_per_capita"
   ]
  },
  {
   "cell_type": "code",
   "execution_count": null,
   "id": "0e9e311a-dfe0-438d-aac1-3db5c9a1dbe8",
   "metadata": {
    "scrolled": true
   },
   "outputs": [],
   "source": [
    "col_list = gdp_per_capita.columns.to_list()[2:]"
   ]
  },
  {
   "cell_type": "code",
   "execution_count": null,
   "id": "bd38b82c-c287-4d67-bed7-5dd64f711b06",
   "metadata": {
    "scrolled": true
   },
   "outputs": [],
   "source": [
    "gdp_per_capita = gdp_per_capita.melt(id_vars= ['Country Name', 'Country Code'], value_vars = col_list)"
   ]
  },
  {
   "cell_type": "code",
   "execution_count": null,
   "id": "0c5d4d6a-ba73-45ed-a5f7-bc613ca4fd2f",
   "metadata": {
    "scrolled": true
   },
   "outputs": [],
   "source": [
    "gdp_per_capita = gdp_per_capita.rename(columns = {'variable': 'Year', 'value': 'GDP Per Capita'})\n",
    "gdp_per_capita"
   ]
  },
  {
   "cell_type": "code",
   "execution_count": null,
   "id": "e60603f5-dc86-42b0-b9fe-65a7b6f78caf",
   "metadata": {},
   "outputs": [],
   "source": [
    "gdp_per_capita['Year'] = gdp_per_capita['Year'].str[:4]\n",
    "gdp_per_capita"
   ]
  },
  {
   "cell_type": "code",
   "execution_count": null,
   "id": "7a815f8f-4e40-4c15-ad29-7256f47b055e",
   "metadata": {
    "scrolled": true
   },
   "outputs": [],
   "source": [
    "noc_regions = pd.read_csv('../data/noc_regions.csv')\n",
    "noc_regions\n",
    "# NOC= Nationaal Olympic Committee 3-Letter Code"
   ]
  },
  {
   "cell_type": "code",
   "execution_count": null,
   "id": "f84217c6-5cb1-4bf4-935b-12a287f8ed36",
   "metadata": {
    "scrolled": true
   },
   "outputs": [],
   "source": [
    "noc_regions = noc_regions.rename(columns = {'region': 'Country Name', 'notes': 'Region'})\n",
    "noc_regions"
   ]
  },
  {
   "cell_type": "code",
   "execution_count": null,
   "id": "6891df82-323c-4311-8448-5f9721992501",
   "metadata": {
    "scrolled": true
   },
   "outputs": [],
   "source": [
    "ath_events = pd.read_csv('../data/athlete_events.csv')\n",
    "ath_events"
   ]
  },
  {
   "cell_type": "code",
   "execution_count": null,
   "id": "4e8b3203-8897-43e4-b5af-51d9e97ac25f",
   "metadata": {
    "scrolled": true
   },
   "outputs": [],
   "source": [
    "gold_medalists = ath_events.loc[ath_events['Medal'] == 'Gold']\n",
    "gold_medalists"
   ]
  },
  {
   "cell_type": "code",
   "execution_count": null,
   "id": "077a75ba-f1e0-434d-8b9a-b7f2a802ecd6",
   "metadata": {
    "scrolled": true
   },
   "outputs": [],
   "source": [
    "silver_medalists = ath_events.loc[ath_events['Medal'] == 'Silver']\n",
    "silver_medalists"
   ]
  },
  {
   "cell_type": "code",
   "execution_count": null,
   "id": "9f26f92b-6f76-4b9c-bd9c-b9c2a4f92817",
   "metadata": {
    "scrolled": true
   },
   "outputs": [],
   "source": [
    "bronze_medalists = ath_events.loc[ath_events['Medal'] == 'Bronze']\n",
    "bronze_medalists"
   ]
  },
  {
   "cell_type": "code",
   "execution_count": null,
   "id": "3616839e-12de-490f-9930-058fd65b2965",
   "metadata": {},
   "outputs": [],
   "source": []
  },
  {
   "cell_type": "code",
   "execution_count": null,
   "id": "0b327375-a5b1-4f13-a528-964f6c8ac659",
   "metadata": {},
   "outputs": [],
   "source": []
  },
  {
   "cell_type": "code",
   "execution_count": null,
   "id": "83e1e65d-55e3-4df1-8211-922e7d7d33c9",
   "metadata": {},
   "outputs": [],
   "source": []
  },
  {
   "cell_type": "code",
   "execution_count": null,
   "id": "b11a2c1f-9b0c-4e8d-a12c-d89d7ab5c097",
   "metadata": {},
   "outputs": [],
   "source": []
  },
  {
   "cell_type": "code",
   "execution_count": null,
   "id": "c864a9d9-8968-475d-b256-69a75081b3ef",
   "metadata": {},
   "outputs": [],
   "source": []
  },
  {
   "cell_type": "code",
   "execution_count": null,
   "id": "90b31671-d1cd-4af0-9cfe-47d344b0117c",
   "metadata": {},
   "outputs": [],
   "source": []
  },
  {
   "cell_type": "code",
   "execution_count": null,
   "id": "c31b32b1-9e4b-43ff-abbe-d17858817525",
   "metadata": {},
   "outputs": [],
   "source": []
  },
  {
   "cell_type": "code",
   "execution_count": null,
   "id": "375bf27e-8e91-425d-a286-78fcb5d4406e",
   "metadata": {},
   "outputs": [],
   "source": []
  },
  {
   "cell_type": "code",
   "execution_count": null,
   "id": "7b03ad3b-dd8e-457b-9be8-65d193a98738",
   "metadata": {},
   "outputs": [],
   "source": []
  },
  {
   "cell_type": "code",
   "execution_count": null,
   "id": "5b3c4ce3-205f-4888-95c1-7e84da817ae9",
   "metadata": {},
   "outputs": [],
   "source": [
    "#pandas melt"
   ]
  },
  {
   "cell_type": "code",
   "execution_count": null,
   "id": "ea3a91cb-5950-4331-a1b6-39c2f88f79cb",
   "metadata": {},
   "outputs": [],
   "source": [
    "#https://pandas.pydata.org/docs/reference/api/pandas.melt.html"
   ]
  },
  {
   "cell_type": "code",
   "execution_count": null,
   "id": "611b465b-df32-467f-ba1f-2746fe041a77",
   "metadata": {},
   "outputs": [],
   "source": [
    "#https://www.geeksforgeeks.org/python-pandas-melt/"
   ]
  }
 ],
 "metadata": {
  "kernelspec": {
   "display_name": "Python 3 (ipykernel)",
   "language": "python",
   "name": "python3"
  },
  "language_info": {
   "codemirror_mode": {
    "name": "ipython",
    "version": 3
   },
   "file_extension": ".py",
   "mimetype": "text/x-python",
   "name": "python",
   "nbconvert_exporter": "python",
   "pygments_lexer": "ipython3",
   "version": "3.12.4"
  }
 },
 "nbformat": 4,
 "nbformat_minor": 5
}
